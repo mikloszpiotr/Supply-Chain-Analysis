{
 "cells": [
  {
   "cell_type": "code",
   "execution_count": 13,
   "id": "a5b69aff-86be-4e2e-a98e-3d6d5601a570",
   "metadata": {},
   "outputs": [],
   "source": [
    "#import libraries\n",
    "import pandas as pd\n",
    "import matplotlib.pyplot as plt\n",
    "from pycaret.regression import *"
   ]
  },
  {
   "cell_type": "code",
   "execution_count": 2,
   "id": "55a90f33-34a0-454e-8fbf-df2db50dc1b3",
   "metadata": {},
   "outputs": [
    {
     "data": {
      "text/html": [
       "<div>\n",
       "<style scoped>\n",
       "    .dataframe tbody tr th:only-of-type {\n",
       "        vertical-align: middle;\n",
       "    }\n",
       "\n",
       "    .dataframe tbody tr th {\n",
       "        vertical-align: top;\n",
       "    }\n",
       "\n",
       "    .dataframe thead th {\n",
       "        text-align: right;\n",
       "    }\n",
       "</style>\n",
       "<table border=\"1\" class=\"dataframe\">\n",
       "  <thead>\n",
       "    <tr style=\"text-align: right;\">\n",
       "      <th></th>\n",
       "      <th>ID</th>\n",
       "      <th>Category</th>\n",
       "      <th>Invoice Number</th>\n",
       "      <th>Product Code</th>\n",
       "      <th>Customer Code</th>\n",
       "      <th>Destenation</th>\n",
       "      <th>QTY</th>\n",
       "      <th>Total Price</th>\n",
       "      <th>Destination full name</th>\n",
       "    </tr>\n",
       "    <tr>\n",
       "      <th>Date</th>\n",
       "      <th></th>\n",
       "      <th></th>\n",
       "      <th></th>\n",
       "      <th></th>\n",
       "      <th></th>\n",
       "      <th></th>\n",
       "      <th></th>\n",
       "      <th></th>\n",
       "      <th></th>\n",
       "    </tr>\n",
       "  </thead>\n",
       "  <tbody>\n",
       "    <tr>\n",
       "      <th>2019-04-28</th>\n",
       "      <td>2529604</td>\n",
       "      <td>Category5</td>\n",
       "      <td>267</td>\n",
       "      <td>30011006</td>\n",
       "      <td>612</td>\n",
       "      <td>IRQ</td>\n",
       "      <td>750</td>\n",
       "      <td>3334.8225</td>\n",
       "      <td>Iraq</td>\n",
       "    </tr>\n",
       "    <tr>\n",
       "      <th>2019-04-29</th>\n",
       "      <td>2529605</td>\n",
       "      <td>Category5</td>\n",
       "      <td>302</td>\n",
       "      <td>30011006</td>\n",
       "      <td>514</td>\n",
       "      <td>BHR</td>\n",
       "      <td>400</td>\n",
       "      <td>3032.8240</td>\n",
       "      <td>Bahrain</td>\n",
       "    </tr>\n",
       "  </tbody>\n",
       "</table>\n",
       "</div>"
      ],
      "text/plain": [
       "                 ID   Category  Invoice Number  Product Code  Customer Code  \\\n",
       "Date                                                                          \n",
       "2019-04-28  2529604  Category5             267      30011006            612   \n",
       "2019-04-29  2529605  Category5             302      30011006            514   \n",
       "\n",
       "           Destenation  QTY  Total Price Destination full name  \n",
       "Date                                                            \n",
       "2019-04-28         IRQ  750    3334.8225                  Iraq  \n",
       "2019-04-29         BHR  400    3032.8240               Bahrain  "
      ]
     },
     "execution_count": 2,
     "metadata": {},
     "output_type": "execute_result"
    }
   ],
   "source": [
    "#import data set, dataset was downloaded from Kaggle:https://www.kaggle.com/datasets/hamidrezabakhtaki/fmcg-export-sale\n",
    "df=pd.read_csv(\"ExportSales.csv\",index_col=1,parse_dates=True)\n",
    "df.head(2)"
   ]
  },
  {
   "cell_type": "code",
   "execution_count": 3,
   "id": "f24a43e0-919c-44e8-bdae-fedb8088cedb",
   "metadata": {},
   "outputs": [
    {
     "data": {
      "text/plain": [
       "DatetimeIndex(['2019-01-31', '2019-02-28', '2019-03-31', '2019-04-30',\n",
       "               '2019-05-31', '2019-06-30', '2019-07-31', '2019-08-31',\n",
       "               '2019-09-30', '2019-10-31', '2019-11-30', '2019-12-31',\n",
       "               '2020-01-31', '2020-02-29', '2020-03-31', '2020-04-30',\n",
       "               '2020-05-31', '2020-06-30', '2020-07-31', '2020-08-31',\n",
       "               '2020-09-30', '2020-10-31', '2020-11-30', '2020-12-31',\n",
       "               '2021-01-31', '2021-02-28', '2021-03-31', '2021-04-30',\n",
       "               '2021-05-31', '2021-06-30', '2021-07-31', '2021-08-31',\n",
       "               '2021-09-30', '2021-10-31', '2021-11-30', '2021-12-31',\n",
       "               '2022-01-31', '2022-02-28', '2022-03-31', '2022-04-30',\n",
       "               '2022-05-31', '2022-06-30', '2022-07-31', '2022-08-31',\n",
       "               '2022-09-30', '2022-10-31', '2022-11-30', '2022-12-31'],\n",
       "              dtype='datetime64[ns]', name='Date', freq='M')"
      ]
     },
     "execution_count": 3,
     "metadata": {},
     "output_type": "execute_result"
    }
   ],
   "source": [
    "#Sort index to be sure that dates are increasing, change data sequence to monthly basis,check if index is correct\n",
    "df=df.sort_index(ascending=True)\n",
    "df=df.resample('M').sum()\n",
    "df.index"
   ]
  },
  {
   "cell_type": "code",
   "execution_count": 4,
   "id": "2bbeba4a-4b8b-4bd3-bafb-32adc366426e",
   "metadata": {},
   "outputs": [],
   "source": [
    "#Selection needed columns\n",
    "df_ts = df[[\"QTY\"]]"
   ]
  },
  {
   "cell_type": "code",
   "execution_count": 16,
   "id": "eda47285-2f3c-4ec6-95a6-33de46ba5139",
   "metadata": {},
   "outputs": [
    {
     "data": {
      "text/html": [
       "<style type=\"text/css\">\n",
       "#T_40aa5_row7_col1 {\n",
       "  background-color: lightgreen;\n",
       "}\n",
       "</style>\n",
       "<table id=\"T_40aa5\">\n",
       "  <thead>\n",
       "    <tr>\n",
       "      <th class=\"blank level0\" >&nbsp;</th>\n",
       "      <th id=\"T_40aa5_level0_col0\" class=\"col_heading level0 col0\" >Description</th>\n",
       "      <th id=\"T_40aa5_level0_col1\" class=\"col_heading level0 col1\" >Value</th>\n",
       "    </tr>\n",
       "  </thead>\n",
       "  <tbody>\n",
       "    <tr>\n",
       "      <th id=\"T_40aa5_level0_row0\" class=\"row_heading level0 row0\" >0</th>\n",
       "      <td id=\"T_40aa5_row0_col0\" class=\"data row0 col0\" >Session id</td>\n",
       "      <td id=\"T_40aa5_row0_col1\" class=\"data row0 col1\" >123</td>\n",
       "    </tr>\n",
       "    <tr>\n",
       "      <th id=\"T_40aa5_level0_row1\" class=\"row_heading level0 row1\" >1</th>\n",
       "      <td id=\"T_40aa5_row1_col0\" class=\"data row1 col0\" >Target</td>\n",
       "      <td id=\"T_40aa5_row1_col1\" class=\"data row1 col1\" >QTY</td>\n",
       "    </tr>\n",
       "    <tr>\n",
       "      <th id=\"T_40aa5_level0_row2\" class=\"row_heading level0 row2\" >2</th>\n",
       "      <td id=\"T_40aa5_row2_col0\" class=\"data row2 col0\" >Target type</td>\n",
       "      <td id=\"T_40aa5_row2_col1\" class=\"data row2 col1\" >Regression</td>\n",
       "    </tr>\n",
       "    <tr>\n",
       "      <th id=\"T_40aa5_level0_row3\" class=\"row_heading level0 row3\" >3</th>\n",
       "      <td id=\"T_40aa5_row3_col0\" class=\"data row3 col0\" >Original data shape</td>\n",
       "      <td id=\"T_40aa5_row3_col1\" class=\"data row3 col1\" >(48, 1)</td>\n",
       "    </tr>\n",
       "    <tr>\n",
       "      <th id=\"T_40aa5_level0_row4\" class=\"row_heading level0 row4\" >4</th>\n",
       "      <td id=\"T_40aa5_row4_col0\" class=\"data row4 col0\" >Transformed data shape</td>\n",
       "      <td id=\"T_40aa5_row4_col1\" class=\"data row4 col1\" >(48, 1)</td>\n",
       "    </tr>\n",
       "    <tr>\n",
       "      <th id=\"T_40aa5_level0_row5\" class=\"row_heading level0 row5\" >5</th>\n",
       "      <td id=\"T_40aa5_row5_col0\" class=\"data row5 col0\" >Transformed train set shape</td>\n",
       "      <td id=\"T_40aa5_row5_col1\" class=\"data row5 col1\" >(33, 1)</td>\n",
       "    </tr>\n",
       "    <tr>\n",
       "      <th id=\"T_40aa5_level0_row6\" class=\"row_heading level0 row6\" >6</th>\n",
       "      <td id=\"T_40aa5_row6_col0\" class=\"data row6 col0\" >Transformed test set shape</td>\n",
       "      <td id=\"T_40aa5_row6_col1\" class=\"data row6 col1\" >(15, 1)</td>\n",
       "    </tr>\n",
       "    <tr>\n",
       "      <th id=\"T_40aa5_level0_row7\" class=\"row_heading level0 row7\" >7</th>\n",
       "      <td id=\"T_40aa5_row7_col0\" class=\"data row7 col0\" >Preprocess</td>\n",
       "      <td id=\"T_40aa5_row7_col1\" class=\"data row7 col1\" >True</td>\n",
       "    </tr>\n",
       "    <tr>\n",
       "      <th id=\"T_40aa5_level0_row8\" class=\"row_heading level0 row8\" >8</th>\n",
       "      <td id=\"T_40aa5_row8_col0\" class=\"data row8 col0\" >Imputation type</td>\n",
       "      <td id=\"T_40aa5_row8_col1\" class=\"data row8 col1\" >simple</td>\n",
       "    </tr>\n",
       "    <tr>\n",
       "      <th id=\"T_40aa5_level0_row9\" class=\"row_heading level0 row9\" >9</th>\n",
       "      <td id=\"T_40aa5_row9_col0\" class=\"data row9 col0\" >Numeric imputation</td>\n",
       "      <td id=\"T_40aa5_row9_col1\" class=\"data row9 col1\" >mean</td>\n",
       "    </tr>\n",
       "    <tr>\n",
       "      <th id=\"T_40aa5_level0_row10\" class=\"row_heading level0 row10\" >10</th>\n",
       "      <td id=\"T_40aa5_row10_col0\" class=\"data row10 col0\" >Categorical imputation</td>\n",
       "      <td id=\"T_40aa5_row10_col1\" class=\"data row10 col1\" >mode</td>\n",
       "    </tr>\n",
       "    <tr>\n",
       "      <th id=\"T_40aa5_level0_row11\" class=\"row_heading level0 row11\" >11</th>\n",
       "      <td id=\"T_40aa5_row11_col0\" class=\"data row11 col0\" >Fold Generator</td>\n",
       "      <td id=\"T_40aa5_row11_col1\" class=\"data row11 col1\" >TimeSeriesSplit</td>\n",
       "    </tr>\n",
       "    <tr>\n",
       "      <th id=\"T_40aa5_level0_row12\" class=\"row_heading level0 row12\" >12</th>\n",
       "      <td id=\"T_40aa5_row12_col0\" class=\"data row12 col0\" >Fold Number</td>\n",
       "      <td id=\"T_40aa5_row12_col1\" class=\"data row12 col1\" >10</td>\n",
       "    </tr>\n",
       "    <tr>\n",
       "      <th id=\"T_40aa5_level0_row13\" class=\"row_heading level0 row13\" >13</th>\n",
       "      <td id=\"T_40aa5_row13_col0\" class=\"data row13 col0\" >CPU Jobs</td>\n",
       "      <td id=\"T_40aa5_row13_col1\" class=\"data row13 col1\" >-1</td>\n",
       "    </tr>\n",
       "    <tr>\n",
       "      <th id=\"T_40aa5_level0_row14\" class=\"row_heading level0 row14\" >14</th>\n",
       "      <td id=\"T_40aa5_row14_col0\" class=\"data row14 col0\" >Use GPU</td>\n",
       "      <td id=\"T_40aa5_row14_col1\" class=\"data row14 col1\" >False</td>\n",
       "    </tr>\n",
       "    <tr>\n",
       "      <th id=\"T_40aa5_level0_row15\" class=\"row_heading level0 row15\" >15</th>\n",
       "      <td id=\"T_40aa5_row15_col0\" class=\"data row15 col0\" >Log Experiment</td>\n",
       "      <td id=\"T_40aa5_row15_col1\" class=\"data row15 col1\" >False</td>\n",
       "    </tr>\n",
       "    <tr>\n",
       "      <th id=\"T_40aa5_level0_row16\" class=\"row_heading level0 row16\" >16</th>\n",
       "      <td id=\"T_40aa5_row16_col0\" class=\"data row16 col0\" >Experiment Name</td>\n",
       "      <td id=\"T_40aa5_row16_col1\" class=\"data row16 col1\" >reg-default-name</td>\n",
       "    </tr>\n",
       "    <tr>\n",
       "      <th id=\"T_40aa5_level0_row17\" class=\"row_heading level0 row17\" >17</th>\n",
       "      <td id=\"T_40aa5_row17_col0\" class=\"data row17 col0\" >USI</td>\n",
       "      <td id=\"T_40aa5_row17_col1\" class=\"data row17 col1\" >461a</td>\n",
       "    </tr>\n",
       "  </tbody>\n",
       "</table>\n"
      ],
      "text/plain": [
       "<pandas.io.formats.style.Styler at 0x23be010ac70>"
      ]
     },
     "metadata": {},
     "output_type": "display_data"
    }
   ],
   "source": [
    "#setup a PyCaret time series experiment\n",
    "exp = setup(data=df_ts, session_id=123, target='QTY', \n",
    "            fold_strategy='timeseries', fold=10)"
   ]
  },
  {
   "cell_type": "code",
   "execution_count": 17,
   "id": "34fd1ffe-5c46-47a5-92ed-8c4be2d577eb",
   "metadata": {},
   "outputs": [
    {
     "data": {
      "text/html": [],
      "text/plain": [
       "<IPython.core.display.HTML object>"
      ]
     },
     "metadata": {},
     "output_type": "display_data"
    },
    {
     "data": {
      "text/html": [
       "<style type=\"text/css\">\n",
       "#T_cd8ff th {\n",
       "  text-align: left;\n",
       "}\n",
       "#T_cd8ff_row0_col0, #T_cd8ff_row1_col0 {\n",
       "  text-align: left;\n",
       "}\n",
       "#T_cd8ff_row0_col1, #T_cd8ff_row0_col2, #T_cd8ff_row0_col3, #T_cd8ff_row0_col4, #T_cd8ff_row0_col5, #T_cd8ff_row0_col6, #T_cd8ff_row1_col1, #T_cd8ff_row1_col2, #T_cd8ff_row1_col3, #T_cd8ff_row1_col4, #T_cd8ff_row1_col5, #T_cd8ff_row1_col6 {\n",
       "  text-align: left;\n",
       "  background-color: yellow;\n",
       "}\n",
       "#T_cd8ff_row0_col7 {\n",
       "  text-align: left;\n",
       "  background-color: lightgrey;\n",
       "}\n",
       "#T_cd8ff_row1_col7 {\n",
       "  text-align: left;\n",
       "  background-color: yellow;\n",
       "  background-color: lightgrey;\n",
       "}\n",
       "</style>\n",
       "<table id=\"T_cd8ff\">\n",
       "  <thead>\n",
       "    <tr>\n",
       "      <th class=\"blank level0\" >&nbsp;</th>\n",
       "      <th id=\"T_cd8ff_level0_col0\" class=\"col_heading level0 col0\" >Model</th>\n",
       "      <th id=\"T_cd8ff_level0_col1\" class=\"col_heading level0 col1\" >MAE</th>\n",
       "      <th id=\"T_cd8ff_level0_col2\" class=\"col_heading level0 col2\" >MSE</th>\n",
       "      <th id=\"T_cd8ff_level0_col3\" class=\"col_heading level0 col3\" >RMSE</th>\n",
       "      <th id=\"T_cd8ff_level0_col4\" class=\"col_heading level0 col4\" >R2</th>\n",
       "      <th id=\"T_cd8ff_level0_col5\" class=\"col_heading level0 col5\" >RMSLE</th>\n",
       "      <th id=\"T_cd8ff_level0_col6\" class=\"col_heading level0 col6\" >MAPE</th>\n",
       "      <th id=\"T_cd8ff_level0_col7\" class=\"col_heading level0 col7\" >TT (Sec)</th>\n",
       "    </tr>\n",
       "  </thead>\n",
       "  <tbody>\n",
       "    <tr>\n",
       "      <th id=\"T_cd8ff_level0_row0\" class=\"row_heading level0 row0\" >lightgbm</th>\n",
       "      <td id=\"T_cd8ff_row0_col0\" class=\"data row0 col0\" >Light Gradient Boosting Machine</td>\n",
       "      <td id=\"T_cd8ff_row0_col1\" class=\"data row0 col1\" >38171.2125</td>\n",
       "      <td id=\"T_cd8ff_row0_col2\" class=\"data row0 col2\" >2192571686.1029</td>\n",
       "      <td id=\"T_cd8ff_row0_col3\" class=\"data row0 col3\" >44718.9923</td>\n",
       "      <td id=\"T_cd8ff_row0_col4\" class=\"data row0 col4\" >-4.8124</td>\n",
       "      <td id=\"T_cd8ff_row0_col5\" class=\"data row0 col5\" >0.9861</td>\n",
       "      <td id=\"T_cd8ff_row0_col6\" class=\"data row0 col6\" >1.8419</td>\n",
       "      <td id=\"T_cd8ff_row0_col7\" class=\"data row0 col7\" >0.0950</td>\n",
       "    </tr>\n",
       "    <tr>\n",
       "      <th id=\"T_cd8ff_level0_row1\" class=\"row_heading level0 row1\" >dummy</th>\n",
       "      <td id=\"T_cd8ff_row1_col0\" class=\"data row1 col0\" >Dummy Regressor</td>\n",
       "      <td id=\"T_cd8ff_row1_col1\" class=\"data row1 col1\" >38171.2125</td>\n",
       "      <td id=\"T_cd8ff_row1_col2\" class=\"data row1 col2\" >2192571686.1029</td>\n",
       "      <td id=\"T_cd8ff_row1_col3\" class=\"data row1 col3\" >44718.9923</td>\n",
       "      <td id=\"T_cd8ff_row1_col4\" class=\"data row1 col4\" >-4.8124</td>\n",
       "      <td id=\"T_cd8ff_row1_col5\" class=\"data row1 col5\" >0.9861</td>\n",
       "      <td id=\"T_cd8ff_row1_col6\" class=\"data row1 col6\" >1.8419</td>\n",
       "      <td id=\"T_cd8ff_row1_col7\" class=\"data row1 col7\" >0.0110</td>\n",
       "    </tr>\n",
       "  </tbody>\n",
       "</table>\n"
      ],
      "text/plain": [
       "<pandas.io.formats.style.Styler at 0x23bdd7facd0>"
      ]
     },
     "metadata": {},
     "output_type": "display_data"
    },
    {
     "data": {
      "application/vnd.jupyter.widget-view+json": {
       "model_id": "",
       "version_major": 2,
       "version_minor": 0
      },
      "text/plain": [
       "Processing:   0%|          | 0/85 [00:00<?, ?it/s]"
      ]
     },
     "metadata": {},
     "output_type": "display_data"
    }
   ],
   "source": [
    "#Compare diffrent models\n",
    "best_model = compare_models()"
   ]
  },
  {
   "cell_type": "code",
   "execution_count": 18,
   "id": "37a4b2f1-3890-42a8-9985-b3c0700847a8",
   "metadata": {},
   "outputs": [
    {
     "data": {
      "text/html": [
       "<style type=\"text/css\">\n",
       "</style>\n",
       "<table id=\"T_88053\">\n",
       "  <thead>\n",
       "    <tr>\n",
       "      <th class=\"blank level0\" >&nbsp;</th>\n",
       "      <th id=\"T_88053_level0_col0\" class=\"col_heading level0 col0\" >Model</th>\n",
       "      <th id=\"T_88053_level0_col1\" class=\"col_heading level0 col1\" >MAE</th>\n",
       "      <th id=\"T_88053_level0_col2\" class=\"col_heading level0 col2\" >MSE</th>\n",
       "      <th id=\"T_88053_level0_col3\" class=\"col_heading level0 col3\" >RMSE</th>\n",
       "      <th id=\"T_88053_level0_col4\" class=\"col_heading level0 col4\" >R2</th>\n",
       "      <th id=\"T_88053_level0_col5\" class=\"col_heading level0 col5\" >RMSLE</th>\n",
       "      <th id=\"T_88053_level0_col6\" class=\"col_heading level0 col6\" >MAPE</th>\n",
       "    </tr>\n",
       "  </thead>\n",
       "  <tbody>\n",
       "    <tr>\n",
       "      <th id=\"T_88053_level0_row0\" class=\"row_heading level0 row0\" >0</th>\n",
       "      <td id=\"T_88053_row0_col0\" class=\"data row0 col0\" >Light Gradient Boosting Machine</td>\n",
       "      <td id=\"T_88053_row0_col1\" class=\"data row0 col1\" >37231.5644</td>\n",
       "      <td id=\"T_88053_row0_col2\" class=\"data row0 col2\" >2250645900.8757</td>\n",
       "      <td id=\"T_88053_row0_col3\" class=\"data row0 col3\" >47440.9728</td>\n",
       "      <td id=\"T_88053_row0_col4\" class=\"data row0 col4\" >-0.0002</td>\n",
       "      <td id=\"T_88053_row0_col5\" class=\"data row0 col5\" >0.9398</td>\n",
       "      <td id=\"T_88053_row0_col6\" class=\"data row0 col6\" >1.3997</td>\n",
       "    </tr>\n",
       "  </tbody>\n",
       "</table>\n"
      ],
      "text/plain": [
       "<pandas.io.formats.style.Styler at 0x23be010ae80>"
      ]
     },
     "metadata": {},
     "output_type": "display_data"
    }
   ],
   "source": [
    "#let's make predictions using the trained model\n",
    "predictions = predict_model(best_model, data=df_ts)"
   ]
  },
  {
   "cell_type": "code",
   "execution_count": 20,
   "id": "0c53d9a5-b0e3-43cb-a881-9f9f72d5ed90",
   "metadata": {},
   "outputs": [
    {
     "data": {
      "image/png": "[encoded data removed]",
      "text/plain": [
       "<Figure size 864x432 with 1 Axes>"
      ]
     },
     "metadata": {
      "needs_background": "light"
     },
     "output_type": "display_data"
    }
   ],
   "source": [
    "# Plot the data predicted data\n",
    "plt.figure(figsize=(12, 6))\n",
    "plt.plot(df_ts, label='Original')\n",
    "plt.plot(predictions, label='Predicted')\n",
    "plt.xlabel('Year')\n",
    "plt.ylabel('QTY')\n",
    "plt.legend()\n",
    "plt.show()"
   ]
  }
 ],
 "metadata": {
  "kernelspec": {
   "display_name": "Python 3 (ipykernel)",
   "language": "python",
   "name": "python3"
  },
  "language_info": {
   "codemirror_mode": {
    "name": "ipython",
    "version": 3
   },
   "file_extension": ".py",
   "mimetype": "text/x-python",
   "name": "python",
   "nbconvert_exporter": "python",
   "pygments_lexer": "ipython3",
   "version": "3.9.12"
  }
 },
 "nbformat": 4,
 "nbformat_minor": 5
}
