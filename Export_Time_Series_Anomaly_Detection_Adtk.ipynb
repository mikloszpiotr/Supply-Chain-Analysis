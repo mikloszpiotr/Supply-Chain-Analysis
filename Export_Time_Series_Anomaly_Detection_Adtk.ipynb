{
 "cells": [
  {
   "cell_type": "code",
   "execution_count": 17,
   "id": "16fd9ae4-ce9a-4b8b-97a0-88b1a3f5686e",
   "metadata": {},
   "outputs": [],
   "source": [
    "#import libraries\n",
    "import pandas as pd\n",
    "import numpy as np\n",
    "import matplotlib.pyplot as plt\n",
    "from adtk.data import validate_series\n",
    "from adtk.detector import LevelShiftAD\n",
    "from adtk.detector import SeasonalAD"
   ]
  },
  {
   "cell_type": "code",
   "execution_count": 5,
   "id": "d0d23890-52cf-4171-aaeb-8e9e8227c217",
   "metadata": {},
   "outputs": [
    {
     "data": {
      "text/html": [
       "<div>\n",
       "<style scoped>\n",
       "    .dataframe tbody tr th:only-of-type {\n",
       "        vertical-align: middle;\n",
       "    }\n",
       "\n",
       "    .dataframe tbody tr th {\n",
       "        vertical-align: top;\n",
       "    }\n",
       "\n",
       "    .dataframe thead th {\n",
       "        text-align: right;\n",
       "    }\n",
       "</style>\n",
       "<table border=\"1\" class=\"dataframe\">\n",
       "  <thead>\n",
       "    <tr style=\"text-align: right;\">\n",
       "      <th></th>\n",
       "      <th>ID</th>\n",
       "      <th>Category</th>\n",
       "      <th>Invoice Number</th>\n",
       "      <th>Product Code</th>\n",
       "      <th>Customer Code</th>\n",
       "      <th>Destenation</th>\n",
       "      <th>QTY</th>\n",
       "      <th>Total Price</th>\n",
       "      <th>Destination full name</th>\n",
       "    </tr>\n",
       "    <tr>\n",
       "      <th>Date</th>\n",
       "      <th></th>\n",
       "      <th></th>\n",
       "      <th></th>\n",
       "      <th></th>\n",
       "      <th></th>\n",
       "      <th></th>\n",
       "      <th></th>\n",
       "      <th></th>\n",
       "      <th></th>\n",
       "    </tr>\n",
       "  </thead>\n",
       "  <tbody>\n",
       "    <tr>\n",
       "      <th>2019-04-28</th>\n",
       "      <td>2529604</td>\n",
       "      <td>Category5</td>\n",
       "      <td>267</td>\n",
       "      <td>30011006</td>\n",
       "      <td>612</td>\n",
       "      <td>IRQ</td>\n",
       "      <td>750</td>\n",
       "      <td>3334.8225</td>\n",
       "      <td>Iraq</td>\n",
       "    </tr>\n",
       "    <tr>\n",
       "      <th>2019-04-29</th>\n",
       "      <td>2529605</td>\n",
       "      <td>Category5</td>\n",
       "      <td>302</td>\n",
       "      <td>30011006</td>\n",
       "      <td>514</td>\n",
       "      <td>BHR</td>\n",
       "      <td>400</td>\n",
       "      <td>3032.8240</td>\n",
       "      <td>Bahrain</td>\n",
       "    </tr>\n",
       "  </tbody>\n",
       "</table>\n",
       "</div>"
      ],
      "text/plain": [
       "                 ID   Category  Invoice Number  Product Code  Customer Code  \\\n",
       "Date                                                                          \n",
       "2019-04-28  2529604  Category5             267      30011006            612   \n",
       "2019-04-29  2529605  Category5             302      30011006            514   \n",
       "\n",
       "           Destenation  QTY  Total Price Destination full name  \n",
       "Date                                                            \n",
       "2019-04-28         IRQ  750    3334.8225                  Iraq  \n",
       "2019-04-29         BHR  400    3032.8240               Bahrain  "
      ]
     },
     "execution_count": 5,
     "metadata": {},
     "output_type": "execute_result"
    }
   ],
   "source": [
    "#import data set, dataset was downloaded from Kaggle:https://www.kaggle.com/datasets/hamidrezabakhtaki/fmcg-export-sale\n",
    "df=pd.read_csv(\"ExportSales.csv\",index_col=1,parse_dates=True)\n",
    "df.head(2)"
   ]
  },
  {
   "cell_type": "code",
   "execution_count": 6,
   "id": "1c71d6ca-f421-4336-b5a0-6d96a0f439e8",
   "metadata": {},
   "outputs": [
    {
     "data": {
      "text/plain": [
       "DatetimeIndex(['2019-01-31', '2019-02-28', '2019-03-31', '2019-04-30',\n",
       "               '2019-05-31', '2019-06-30', '2019-07-31', '2019-08-31',\n",
       "               '2019-09-30', '2019-10-31', '2019-11-30', '2019-12-31',\n",
       "               '2020-01-31', '2020-02-29', '2020-03-31', '2020-04-30',\n",
       "               '2020-05-31', '2020-06-30', '2020-07-31', '2020-08-31',\n",
       "               '2020-09-30', '2020-10-31', '2020-11-30', '2020-12-31',\n",
       "               '2021-01-31', '2021-02-28', '2021-03-31', '2021-04-30',\n",
       "               '2021-05-31', '2021-06-30', '2021-07-31', '2021-08-31',\n",
       "               '2021-09-30', '2021-10-31', '2021-11-30', '2021-12-31',\n",
       "               '2022-01-31', '2022-02-28', '2022-03-31', '2022-04-30',\n",
       "               '2022-05-31', '2022-06-30', '2022-07-31', '2022-08-31',\n",
       "               '2022-09-30', '2022-10-31', '2022-11-30', '2022-12-31'],\n",
       "              dtype='datetime64[ns]', name='Date', freq='M')"
      ]
     },
     "execution_count": 6,
     "metadata": {},
     "output_type": "execute_result"
    }
   ],
   "source": [
    "#Sort index to be sure that dates are increasing, change data sequence to monthly basis,check if index is correct\n",
    "df=df.sort_index(ascending=True)\n",
    "df=df.resample('M').sum()\n",
    "df.index"
   ]
  },
  {
   "cell_type": "code",
   "execution_count": 7,
   "id": "a5ea2cb0-67a4-421f-bea2-fd5b5839a11f",
   "metadata": {},
   "outputs": [],
   "source": [
    "#Selection needed columns\n",
    "df_ts = df[[\"QTY\"]]"
   ]
  },
  {
   "cell_type": "code",
   "execution_count": 8,
   "id": "b56d1d6f-450d-4a3e-8a8a-91b630705243",
   "metadata": {},
   "outputs": [],
   "source": [
    "# Validate the data\n",
    "data = validate_series(df_ts)\n",
    "data = data.interpolate()"
   ]
  },
  {
   "cell_type": "code",
   "execution_count": 11,
   "id": "4691cdff-2b11-4a70-bef2-02f7c3fb8297",
   "metadata": {},
   "outputs": [],
   "source": [
    "# Create an instance of the LevelShiftAD detector\n",
    "detector = LevelShiftAD(window=12)\n",
    "detector.fit(data)"
   ]
  },
  {
   "cell_type": "code",
   "execution_count": 15,
   "id": "1ac793ff-58ff-48c2-9598-4dd62f20c5f4",
   "metadata": {},
   "outputs": [],
   "source": [
    "#Generate anomaly scores for data\n",
    "anomaly_scores = detector.predict(data)"
   ]
  },
  {
   "cell_type": "code",
   "execution_count": 16,
   "id": "2b86d0ff-3400-413b-b153-77ce630143af",
   "metadata": {},
   "outputs": [
    {
     "data": {
      "text/plain": [
       "[<AxesSubplot:>]"
      ]
     },
     "execution_count": 16,
     "metadata": {},
     "output_type": "execute_result"
    },
    {
     "data": {
      "image/png": "[encoded data removed]",
      "text/plain": [
       "<Figure size 1152x288 with 1 Axes>"
      ]
     },
     "metadata": {},
     "output_type": "display_data"
    }
   ],
   "source": [
    "#Plot anomaly\n",
    "plot(df_ts, anomaly_scores, ts_markersize=1, anomaly_color='red', anomaly_tag=\"marker\")"
   ]
  }
 ],
 "metadata": {
  "kernelspec": {
   "display_name": "Python 3 (ipykernel)",
   "language": "python",
   "name": "python3"
  },
  "language_info": {
   "codemirror_mode": {
    "name": "ipython",
    "version": 3
   },
   "file_extension": ".py",
   "mimetype": "text/x-python",
   "name": "python",
   "nbconvert_exporter": "python",
   "pygments_lexer": "ipython3",
   "version": "3.9.12"
  }
 },
 "nbformat": 4,
 "nbformat_minor": 5
}
