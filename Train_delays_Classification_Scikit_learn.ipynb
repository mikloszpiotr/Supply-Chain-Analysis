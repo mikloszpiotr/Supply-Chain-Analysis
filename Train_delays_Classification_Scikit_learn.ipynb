{
 "cells": [
  {
   "cell_type": "code",
   "execution_count": 1,
   "id": "aa394f58-e246-4760-810a-256481eb19bd",
   "metadata": {},
   "outputs": [],
   "source": [
    "#import libraries\n",
    "import pandas as pd\n",
    "import numpy as np\n",
    "import matplotlib.pyplot as plt\n",
    "from sklearn.model_selection import train_test_split\n",
    "from sklearn.metrics import confusion_matrix, classification_report, roc_curve, roc_auc_score\n",
    "from sklearn.linear_model import LogisticRegression\n",
    "from sklearn.tree import DecisionTreeClassifier\n",
    "from sklearn.ensemble import RandomForestClassifier\n",
    "from sklearn.neighbors import KNeighborsClassifier"
   ]
  },
  {
   "cell_type": "code",
   "execution_count": 2,
   "id": "ff81f0cb-29f8-47be-ba88-f9f441e378bb",
   "metadata": {},
   "outputs": [
    {
     "data": {
      "text/html": [
       "<div>\n",
       "<style scoped>\n",
       "    .dataframe tbody tr th:only-of-type {\n",
       "        vertical-align: middle;\n",
       "    }\n",
       "\n",
       "    .dataframe tbody tr th {\n",
       "        vertical-align: top;\n",
       "    }\n",
       "\n",
       "    .dataframe thead th {\n",
       "        text-align: right;\n",
       "    }\n",
       "</style>\n",
       "<table border=\"1\" class=\"dataframe\">\n",
       "  <thead>\n",
       "    <tr style=\"text-align: right;\">\n",
       "      <th></th>\n",
       "      <th>datetime</th>\n",
       "      <th>id</th>\n",
       "      <th>carrier</th>\n",
       "      <th>date</th>\n",
       "      <th>connection</th>\n",
       "      <th>arrival</th>\n",
       "      <th>delay</th>\n",
       "      <th>name</th>\n",
       "    </tr>\n",
       "  </thead>\n",
       "  <tbody>\n",
       "    <tr>\n",
       "      <th>0</th>\n",
       "      <td>2022-05-16 00:00:00</td>\n",
       "      <td>41002/3 (102) POLONIA</td>\n",
       "      <td>PKP Intercity</td>\n",
       "      <td>2022-05-15</td>\n",
       "      <td>Bohumin - Warszawa Wschodnia</td>\n",
       "      <td>21:31</td>\n",
       "      <td>162 min</td>\n",
       "      <td>Warszawa Zachodnia</td>\n",
       "    </tr>\n",
       "    <tr>\n",
       "      <th>1</th>\n",
       "      <td>2022-05-16 00:00:00</td>\n",
       "      <td>91888/9 (102)</td>\n",
       "      <td>Koleje Mazowieckie</td>\n",
       "      <td>2022-05-16</td>\n",
       "      <td>Siedlce - Warszawa Zachodnia</td>\n",
       "      <td>00:15</td>\n",
       "      <td>0 min</td>\n",
       "      <td>Warszawa Zachodnia</td>\n",
       "    </tr>\n",
       "  </tbody>\n",
       "</table>\n",
       "</div>"
      ],
      "text/plain": [
       "              datetime                     id             carrier        date  \\\n",
       "0  2022-05-16 00:00:00  41002/3 (102) POLONIA       PKP Intercity  2022-05-15   \n",
       "1  2022-05-16 00:00:00         91888/9 (102)   Koleje Mazowieckie  2022-05-16   \n",
       "\n",
       "                     connection arrival    delay                name  \n",
       "0  Bohumin - Warszawa Wschodnia   21:31  162 min  Warszawa Zachodnia  \n",
       "1  Siedlce - Warszawa Zachodnia   00:15    0 min  Warszawa Zachodnia  "
      ]
     },
     "execution_count": 2,
     "metadata": {},
     "output_type": "execute_result"
    }
   ],
   "source": [
    "#import dataset, dataset was downloaded from kaggle:https://www.kaggle.com/datasets/bartek358/train-delays\n",
    "df=pd.read_csv(\"delays.csv\")\n",
    "df.head(2)"
   ]
  },
  {
   "cell_type": "code",
   "execution_count": 3,
   "id": "ee20b5f1-6aa6-4135-9efb-c7a763ec73ba",
   "metadata": {},
   "outputs": [
    {
     "data": {
      "text/plain": [
       "0 min       2834968\n",
       "1 min        290496\n",
       "2 min        128428\n",
       "3 min         72148\n",
       "4 min         53485\n",
       "             ...   \n",
       "1425 min          3\n",
       "424 min           2\n",
       "257 min           2\n",
       "290 min           1\n",
       "285 min           1\n",
       "Name: delay, Length: 358, dtype: int64"
      ]
     },
     "execution_count": 3,
     "metadata": {},
     "output_type": "execute_result"
    }
   ],
   "source": [
    "#Check delay column values\n",
    "df['delay'].value_counts()"
   ]
  },
  {
   "cell_type": "code",
   "execution_count": 4,
   "id": "16875a95-f759-4210-8949-d0887fcb0543",
   "metadata": {},
   "outputs": [
    {
     "data": {
      "text/html": [
       "<div>\n",
       "<style scoped>\n",
       "    .dataframe tbody tr th:only-of-type {\n",
       "        vertical-align: middle;\n",
       "    }\n",
       "\n",
       "    .dataframe tbody tr th {\n",
       "        vertical-align: top;\n",
       "    }\n",
       "\n",
       "    .dataframe thead th {\n",
       "        text-align: right;\n",
       "    }\n",
       "</style>\n",
       "<table border=\"1\" class=\"dataframe\">\n",
       "  <thead>\n",
       "    <tr style=\"text-align: right;\">\n",
       "      <th></th>\n",
       "      <th>datetime</th>\n",
       "      <th>id</th>\n",
       "      <th>carrier</th>\n",
       "      <th>date</th>\n",
       "      <th>connection</th>\n",
       "      <th>arrival</th>\n",
       "      <th>delay</th>\n",
       "      <th>name</th>\n",
       "    </tr>\n",
       "  </thead>\n",
       "  <tbody>\n",
       "    <tr>\n",
       "      <th>0</th>\n",
       "      <td>2022-05-16 00:00:00</td>\n",
       "      <td>41002/3 (102) POLONIA</td>\n",
       "      <td>PKP Intercity</td>\n",
       "      <td>2022-05-15</td>\n",
       "      <td>Bohumin - Warszawa Wschodnia</td>\n",
       "      <td>21:31</td>\n",
       "      <td>1</td>\n",
       "      <td>Warszawa Zachodnia</td>\n",
       "    </tr>\n",
       "    <tr>\n",
       "      <th>1</th>\n",
       "      <td>2022-05-16 00:00:00</td>\n",
       "      <td>91888/9 (102)</td>\n",
       "      <td>Koleje Mazowieckie</td>\n",
       "      <td>2022-05-16</td>\n",
       "      <td>Siedlce - Warszawa Zachodnia</td>\n",
       "      <td>00:15</td>\n",
       "      <td>0</td>\n",
       "      <td>Warszawa Zachodnia</td>\n",
       "    </tr>\n",
       "  </tbody>\n",
       "</table>\n",
       "</div>"
      ],
      "text/plain": [
       "              datetime                     id             carrier        date  \\\n",
       "0  2022-05-16 00:00:00  41002/3 (102) POLONIA       PKP Intercity  2022-05-15   \n",
       "1  2022-05-16 00:00:00         91888/9 (102)   Koleje Mazowieckie  2022-05-16   \n",
       "\n",
       "                     connection arrival  delay                name  \n",
       "0  Bohumin - Warszawa Wschodnia   21:31      1  Warszawa Zachodnia  \n",
       "1  Siedlce - Warszawa Zachodnia   00:15      0  Warszawa Zachodnia  "
      ]
     },
     "execution_count": 4,
     "metadata": {},
     "output_type": "execute_result"
    }
   ],
   "source": [
    "#Change delay column to binary values\n",
    "df['delay'] = np.where(df['delay']==\"0 min\",0,1)\n",
    "df.head(2)"
   ]
  },
  {
   "cell_type": "code",
   "execution_count": 5,
   "id": "02cb7aff-f9c2-4bc7-804f-2d3ab93e6182",
   "metadata": {},
   "outputs": [],
   "source": [
    "#Filter for columns for classification\n",
    "df_clas = df[[\"carrier\",\"delay\"]]"
   ]
  },
  {
   "cell_type": "code",
   "execution_count": 6,
   "id": "cf7aacec-a45a-4c1b-bfb5-a9eb6beb44e4",
   "metadata": {},
   "outputs": [
    {
     "data": {
      "text/html": [
       "<div>\n",
       "<style scoped>\n",
       "    .dataframe tbody tr th:only-of-type {\n",
       "        vertical-align: middle;\n",
       "    }\n",
       "\n",
       "    .dataframe tbody tr th {\n",
       "        vertical-align: top;\n",
       "    }\n",
       "\n",
       "    .dataframe thead th {\n",
       "        text-align: right;\n",
       "    }\n",
       "</style>\n",
       "<table border=\"1\" class=\"dataframe\">\n",
       "  <thead>\n",
       "    <tr style=\"text-align: right;\">\n",
       "      <th></th>\n",
       "      <th>Arriva</th>\n",
       "      <th>Koleje Dolnośląskie</th>\n",
       "      <th>Koleje Mazowieckie</th>\n",
       "      <th>Koleje Wielkopolskie</th>\n",
       "      <th>Koleje Śląskie</th>\n",
       "      <th>PKP Intercity</th>\n",
       "      <th>PKP SKM w Trójmieście Sp. z o.o.</th>\n",
       "      <th>POLREGIO Sp. z o.o.</th>\n",
       "      <th>SKM Warszawa</th>\n",
       "      <th>Łódzka Kolej Aglomeracyjna</th>\n",
       "    </tr>\n",
       "  </thead>\n",
       "  <tbody>\n",
       "    <tr>\n",
       "      <th>0</th>\n",
       "      <td>0</td>\n",
       "      <td>0</td>\n",
       "      <td>0</td>\n",
       "      <td>0</td>\n",
       "      <td>0</td>\n",
       "      <td>1</td>\n",
       "      <td>0</td>\n",
       "      <td>0</td>\n",
       "      <td>0</td>\n",
       "      <td>0</td>\n",
       "    </tr>\n",
       "    <tr>\n",
       "      <th>1</th>\n",
       "      <td>0</td>\n",
       "      <td>0</td>\n",
       "      <td>1</td>\n",
       "      <td>0</td>\n",
       "      <td>0</td>\n",
       "      <td>0</td>\n",
       "      <td>0</td>\n",
       "      <td>0</td>\n",
       "      <td>0</td>\n",
       "      <td>0</td>\n",
       "    </tr>\n",
       "    <tr>\n",
       "      <th>2</th>\n",
       "      <td>0</td>\n",
       "      <td>0</td>\n",
       "      <td>1</td>\n",
       "      <td>0</td>\n",
       "      <td>0</td>\n",
       "      <td>0</td>\n",
       "      <td>0</td>\n",
       "      <td>0</td>\n",
       "      <td>0</td>\n",
       "      <td>0</td>\n",
       "    </tr>\n",
       "    <tr>\n",
       "      <th>3</th>\n",
       "      <td>0</td>\n",
       "      <td>0</td>\n",
       "      <td>1</td>\n",
       "      <td>0</td>\n",
       "      <td>0</td>\n",
       "      <td>0</td>\n",
       "      <td>0</td>\n",
       "      <td>0</td>\n",
       "      <td>0</td>\n",
       "      <td>0</td>\n",
       "    </tr>\n",
       "    <tr>\n",
       "      <th>4</th>\n",
       "      <td>0</td>\n",
       "      <td>0</td>\n",
       "      <td>0</td>\n",
       "      <td>0</td>\n",
       "      <td>0</td>\n",
       "      <td>1</td>\n",
       "      <td>0</td>\n",
       "      <td>0</td>\n",
       "      <td>0</td>\n",
       "      <td>0</td>\n",
       "    </tr>\n",
       "    <tr>\n",
       "      <th>...</th>\n",
       "      <td>...</td>\n",
       "      <td>...</td>\n",
       "      <td>...</td>\n",
       "      <td>...</td>\n",
       "      <td>...</td>\n",
       "      <td>...</td>\n",
       "      <td>...</td>\n",
       "      <td>...</td>\n",
       "      <td>...</td>\n",
       "      <td>...</td>\n",
       "    </tr>\n",
       "    <tr>\n",
       "      <th>3718165</th>\n",
       "      <td>0</td>\n",
       "      <td>0</td>\n",
       "      <td>0</td>\n",
       "      <td>0</td>\n",
       "      <td>0</td>\n",
       "      <td>1</td>\n",
       "      <td>0</td>\n",
       "      <td>0</td>\n",
       "      <td>0</td>\n",
       "      <td>0</td>\n",
       "    </tr>\n",
       "    <tr>\n",
       "      <th>3718166</th>\n",
       "      <td>0</td>\n",
       "      <td>0</td>\n",
       "      <td>1</td>\n",
       "      <td>0</td>\n",
       "      <td>0</td>\n",
       "      <td>0</td>\n",
       "      <td>0</td>\n",
       "      <td>0</td>\n",
       "      <td>0</td>\n",
       "      <td>0</td>\n",
       "    </tr>\n",
       "    <tr>\n",
       "      <th>3718167</th>\n",
       "      <td>0</td>\n",
       "      <td>0</td>\n",
       "      <td>0</td>\n",
       "      <td>0</td>\n",
       "      <td>0</td>\n",
       "      <td>1</td>\n",
       "      <td>0</td>\n",
       "      <td>0</td>\n",
       "      <td>0</td>\n",
       "      <td>0</td>\n",
       "    </tr>\n",
       "    <tr>\n",
       "      <th>3718168</th>\n",
       "      <td>0</td>\n",
       "      <td>0</td>\n",
       "      <td>0</td>\n",
       "      <td>0</td>\n",
       "      <td>0</td>\n",
       "      <td>1</td>\n",
       "      <td>0</td>\n",
       "      <td>0</td>\n",
       "      <td>0</td>\n",
       "      <td>0</td>\n",
       "    </tr>\n",
       "    <tr>\n",
       "      <th>3718169</th>\n",
       "      <td>0</td>\n",
       "      <td>0</td>\n",
       "      <td>0</td>\n",
       "      <td>0</td>\n",
       "      <td>0</td>\n",
       "      <td>1</td>\n",
       "      <td>0</td>\n",
       "      <td>0</td>\n",
       "      <td>0</td>\n",
       "      <td>0</td>\n",
       "    </tr>\n",
       "  </tbody>\n",
       "</table>\n",
       "<p>3718170 rows × 10 columns</p>\n",
       "</div>"
      ],
      "text/plain": [
       "         Arriva  Koleje Dolnośląskie  Koleje Mazowieckie  \\\n",
       "0             0                    0                   0   \n",
       "1             0                    0                   1   \n",
       "2             0                    0                   1   \n",
       "3             0                    0                   1   \n",
       "4             0                    0                   0   \n",
       "...         ...                  ...                 ...   \n",
       "3718165       0                    0                   0   \n",
       "3718166       0                    0                   1   \n",
       "3718167       0                    0                   0   \n",
       "3718168       0                    0                   0   \n",
       "3718169       0                    0                   0   \n",
       "\n",
       "         Koleje Wielkopolskie  Koleje Śląskie  PKP Intercity  \\\n",
       "0                           0               0              1   \n",
       "1                           0               0              0   \n",
       "2                           0               0              0   \n",
       "3                           0               0              0   \n",
       "4                           0               0              1   \n",
       "...                       ...             ...            ...   \n",
       "3718165                     0               0              1   \n",
       "3718166                     0               0              0   \n",
       "3718167                     0               0              1   \n",
       "3718168                     0               0              1   \n",
       "3718169                     0               0              1   \n",
       "\n",
       "         PKP SKM w Trójmieście Sp. z o.o.  POLREGIO Sp. z o.o.  SKM Warszawa  \\\n",
       "0                                       0                    0             0   \n",
       "1                                       0                    0             0   \n",
       "2                                       0                    0             0   \n",
       "3                                       0                    0             0   \n",
       "4                                       0                    0             0   \n",
       "...                                   ...                  ...           ...   \n",
       "3718165                                 0                    0             0   \n",
       "3718166                                 0                    0             0   \n",
       "3718167                                 0                    0             0   \n",
       "3718168                                 0                    0             0   \n",
       "3718169                                 0                    0             0   \n",
       "\n",
       "         Łódzka Kolej Aglomeracyjna  \n",
       "0                                 0  \n",
       "1                                 0  \n",
       "2                                 0  \n",
       "3                                 0  \n",
       "4                                 0  \n",
       "...                             ...  \n",
       "3718165                           0  \n",
       "3718166                           0  \n",
       "3718167                           0  \n",
       "3718168                           0  \n",
       "3718169                           0  \n",
       "\n",
       "[3718170 rows x 10 columns]"
      ]
     },
     "execution_count": 6,
     "metadata": {},
     "output_type": "execute_result"
    }
   ],
   "source": [
    "#create a dummy values for carrier column\n",
    "dummies = pd.get_dummies(df_clas[\"carrier\"])\n",
    "dummies"
   ]
  },
  {
   "cell_type": "code",
   "execution_count": 41,
   "id": "32a32947-0708-45dd-8266-5e14634eed46",
   "metadata": {},
   "outputs": [
    {
     "data": {
      "text/plain": [
       "Index(['carrier', 'delay', 'Arriva', 'Koleje Dolnośląskie',\n",
       "       'Koleje Mazowieckie', 'Koleje Wielkopolskie', 'Koleje Śląskie',\n",
       "       'PKP Intercity', 'PKP SKM w Trójmieście Sp. z o.o.',\n",
       "       'POLREGIO Sp. z o.o.', 'SKM Warszawa', 'Łódzka Kolej Aglomeracyjna'],\n",
       "      dtype='object')"
      ]
     },
     "execution_count": 41,
     "metadata": {},
     "output_type": "execute_result"
    }
   ],
   "source": [
    "#Check columns name\n",
    "df_cl.columns"
   ]
  },
  {
   "cell_type": "code",
   "execution_count": 7,
   "id": "121c5e07-72d7-4ed0-967e-c4e5179b4b45",
   "metadata": {},
   "outputs": [],
   "source": [
    "#Concat df_clas and dummies values\n",
    "df_cl = pd.concat([df_clas,dummies],axis=1)\n",
    "df_cl = df_cl[['delay', 'Arriva', 'Koleje Dolnośląskie', 'Koleje Mazowieckie', 'Koleje Wielkopolskie', 'Koleje Śląskie','PKP Intercity', 'PKP SKM w Trójmieście Sp. z o.o.', 'POLREGIO Sp. z o.o.', 'SKM Warszawa', 'Łódzka Kolej Aglomeracyjna']]"
   ]
  },
  {
   "cell_type": "code",
   "execution_count": 8,
   "id": "3ad0ebdc-e9ec-4d0b-a7d5-26464d88eff3",
   "metadata": {},
   "outputs": [],
   "source": [
    "#Split data into X and y with reshape function\n",
    "X = df_cl.iloc[:,1:]\n",
    "y = df_cl.iloc[:, 0]"
   ]
  },
  {
   "cell_type": "code",
   "execution_count": 9,
   "id": "0e4c3627-7470-48b5-bce6-85c134feb026",
   "metadata": {},
   "outputs": [],
   "source": [
    "#Splitting data into train and test set\n",
    "X_train, X_test, y_train, y_test = train_test_split(X, y, test_size=0.2)"
   ]
  },
  {
   "cell_type": "code",
   "execution_count": 61,
   "id": "f66482be-0d2e-4164-a7c7-758ee2d5316d",
   "metadata": {},
   "outputs": [],
   "source": [
    "# Create the logistic regression model\n",
    "model = LogisticRegression()\n",
    "model.fit(X_train, y_train)\n",
    "y_pred = model.predict(X_test)"
   ]
  },
  {
   "cell_type": "code",
   "execution_count": 62,
   "id": "bad061dc-9b9d-4cf6-9d87-ec651c7db1ff",
   "metadata": {},
   "outputs": [
    {
     "name": "stderr",
     "output_type": "stream",
     "text": [
      "C:\\Users\\piotr\\anaconda3\\lib\\site-packages\\sklearn\\metrics\\_classification.py:1318: UndefinedMetricWarning: Precision and F-score are ill-defined and being set to 0.0 in labels with no predicted samples. Use `zero_division` parameter to control this behavior.\n",
      "  _warn_prf(average, modifier, msg_start, len(result))\n"
     ]
    },
    {
     "name": "stdout",
     "output_type": "stream",
     "text": [
      "Confusion matrix:\n",
      " [[566720      0]\n",
      " [176914      0]]\n",
      "Classification report:\n",
      "               precision    recall  f1-score   support\n",
      "\n",
      "           0       0.76      1.00      0.86    566720\n",
      "           1       0.00      0.00      0.00    176914\n",
      "\n",
      "    accuracy                           0.76    743634\n",
      "   macro avg       0.38      0.50      0.43    743634\n",
      "weighted avg       0.58      0.76      0.66    743634\n",
      "\n"
     ]
    },
    {
     "name": "stderr",
     "output_type": "stream",
     "text": [
      "C:\\Users\\piotr\\anaconda3\\lib\\site-packages\\sklearn\\metrics\\_classification.py:1318: UndefinedMetricWarning: Precision and F-score are ill-defined and being set to 0.0 in labels with no predicted samples. Use `zero_division` parameter to control this behavior.\n",
      "  _warn_prf(average, modifier, msg_start, len(result))\n",
      "C:\\Users\\piotr\\anaconda3\\lib\\site-packages\\sklearn\\metrics\\_classification.py:1318: UndefinedMetricWarning: Precision and F-score are ill-defined and being set to 0.0 in labels with no predicted samples. Use `zero_division` parameter to control this behavior.\n",
      "  _warn_prf(average, modifier, msg_start, len(result))\n"
     ]
    }
   ],
   "source": [
    "# evaluate the model using confusion matrix and classification report\n",
    "cm = confusion_matrix(y_test, y_pred)\n",
    "cr = classification_report(y_test, y_pred)\n",
    "print('Confusion matrix:\\n', cm)\n",
    "print('Classification report:\\n', cr)"
   ]
  },
  {
   "cell_type": "code",
   "execution_count": 63,
   "id": "8a54d54e-c97b-4d88-bf2a-953ef914719d",
   "metadata": {},
   "outputs": [],
   "source": [
    "# calculate the ROC curve and AUC score\n",
    "y_pred_proba = model.predict_proba(X_test)[:, 1]\n",
    "fpr, tpr, thresholds = roc_curve(y_test, y_pred_proba)\n",
    "auc = roc_auc_score(y_test, y_pred_proba)"
   ]
  },
  {
   "cell_type": "code",
   "execution_count": 68,
   "id": "eb68634b-bb08-4678-8a86-a75302236537",
   "metadata": {},
   "outputs": [],
   "source": [
    "#Define a size\n",
    "plt.rcParams[\"figure.figsize\"] = (12, 8)"
   ]
  },
  {
   "cell_type": "code",
   "execution_count": 69,
   "id": "0b646d85-d5f6-496e-b995-10b6e461f3a7",
   "metadata": {},
   "outputs": [
    {
     "data": {
      "image/png": "[encoded data removed]",
      "text/plain": [
       "<Figure size 864x576 with 1 Axes>"
      ]
     },
     "metadata": {
      "needs_background": "light"
     },
     "output_type": "display_data"
    }
   ],
   "source": [
    "# plot the ROC curve\n",
    "plt.plot(fpr, tpr, label='ROC curve (area = %0.2f)' % auc)\n",
    "plt.plot([0, 1], [0, 1], 'k--')\n",
    "plt.xlim([0.0, 1.0])\n",
    "plt.ylim([0.0, 1.05])\n",
    "plt.xlabel('False Positive Rate')\n",
    "plt.ylabel('True Positive Rate')\n",
    "plt.title('Receiver operating characteristic')\n",
    "plt.legend(loc=\"lower right\")\n",
    "plt.show()"
   ]
  },
  {
   "cell_type": "code",
   "execution_count": 72,
   "id": "35d57622-26b0-412e-a17b-0d5f017fe74c",
   "metadata": {},
   "outputs": [],
   "source": [
    "# create the decision tree model\n",
    "dt_model = DecisionTreeClassifier()\n",
    "dt_model.fit(X_train, y_train)\n",
    "dt_y_pred = dt_model.predict(X_test)"
   ]
  },
  {
   "cell_type": "code",
   "execution_count": 73,
   "id": "6cad0ffe-0ff9-45ff-b6e3-4783c90044f6",
   "metadata": {},
   "outputs": [
    {
     "name": "stderr",
     "output_type": "stream",
     "text": [
      "C:\\Users\\piotr\\anaconda3\\lib\\site-packages\\sklearn\\metrics\\_classification.py:1318: UndefinedMetricWarning: Precision and F-score are ill-defined and being set to 0.0 in labels with no predicted samples. Use `zero_division` parameter to control this behavior.\n",
      "  _warn_prf(average, modifier, msg_start, len(result))\n"
     ]
    },
    {
     "name": "stdout",
     "output_type": "stream",
     "text": [
      "Decision tree confusion matrix:\n",
      " [[566720      0]\n",
      " [176914      0]]\n",
      "Decision tree classification report:\n",
      "               precision    recall  f1-score   support\n",
      "\n",
      "           0       0.76      1.00      0.86    566720\n",
      "           1       0.00      0.00      0.00    176914\n",
      "\n",
      "    accuracy                           0.76    743634\n",
      "   macro avg       0.38      0.50      0.43    743634\n",
      "weighted avg       0.58      0.76      0.66    743634\n",
      "\n"
     ]
    },
    {
     "name": "stderr",
     "output_type": "stream",
     "text": [
      "C:\\Users\\piotr\\anaconda3\\lib\\site-packages\\sklearn\\metrics\\_classification.py:1318: UndefinedMetricWarning: Precision and F-score are ill-defined and being set to 0.0 in labels with no predicted samples. Use `zero_division` parameter to control this behavior.\n",
      "  _warn_prf(average, modifier, msg_start, len(result))\n",
      "C:\\Users\\piotr\\anaconda3\\lib\\site-packages\\sklearn\\metrics\\_classification.py:1318: UndefinedMetricWarning: Precision and F-score are ill-defined and being set to 0.0 in labels with no predicted samples. Use `zero_division` parameter to control this behavior.\n",
      "  _warn_prf(average, modifier, msg_start, len(result))\n"
     ]
    }
   ],
   "source": [
    "# evaluate the performance \n",
    "dt_cm = confusion_matrix(y_test, dt_y_pred)\n",
    "dt_cr = classification_report(y_test, dt_y_pred)\n",
    "print('Decision tree confusion matrix:\\n', dt_cm)\n",
    "print('Decision tree classification report:\\n', dt_cr)"
   ]
  },
  {
   "cell_type": "code",
   "execution_count": 74,
   "id": "1ccda0a1-c1a4-410c-812b-eea1be4db66d",
   "metadata": {},
   "outputs": [],
   "source": [
    "# calculate the ROC curve and AUC score\n",
    "dt_y_pred_proba = dt_model.predict_proba(X_test)[:, 1]\n",
    "dt_fpr, dt_tpr, dt_thresholds = roc_curve(y_test, dt_y_pred_proba)\n",
    "dt_auc = roc_auc_score(y_test, dt_y_pred_proba)"
   ]
  },
  {
   "cell_type": "code",
   "execution_count": 75,
   "id": "a2916280-bc5b-456a-bc3c-539bc3907613",
   "metadata": {},
   "outputs": [
    {
     "data": {
      "image/png": "[encoded data removed]",
      "text/plain": [
       "<Figure size 864x576 with 1 Axes>"
      ]
     },
     "metadata": {
      "needs_background": "light"
     },
     "output_type": "display_data"
    }
   ],
   "source": [
    "# plot the ROC curves \n",
    "plt.plot(dt_fpr, dt_tpr, label='Decision tree ROC curve (area = %0.2f)' % dt_auc)\n",
    "plt.plot([0, 1], [0, 1], 'k--')\n",
    "plt.xlim([0.0, 1.0])\n",
    "plt.ylim([0.0, 1.05])\n",
    "plt.xlabel('False Positive Rate')\n",
    "plt.ylabel('True Positive Rate')\n",
    "plt.title('Receiver operating characteristic')\n",
    "plt.legend(loc=\"lower right\")\n",
    "plt.show()"
   ]
  },
  {
   "cell_type": "code",
   "execution_count": 77,
   "id": "d8fb2a71-5a7f-44c0-a4a9-389ae3e6e642",
   "metadata": {},
   "outputs": [],
   "source": [
    "# create the random forest model\n",
    "rf_model = RandomForestClassifier(n_estimators=100, random_state=42)\n",
    "rf_model.fit(X_train, y_train)\n",
    "rf_y_pred = rf_model.predict(X_test)"
   ]
  },
  {
   "cell_type": "code",
   "execution_count": 78,
   "id": "5eb7ad2e-9533-4f95-9e2b-0d2e7dfa9281",
   "metadata": {},
   "outputs": [
    {
     "name": "stderr",
     "output_type": "stream",
     "text": [
      "C:\\Users\\piotr\\anaconda3\\lib\\site-packages\\sklearn\\metrics\\_classification.py:1318: UndefinedMetricWarning: Precision and F-score are ill-defined and being set to 0.0 in labels with no predicted samples. Use `zero_division` parameter to control this behavior.\n",
      "  _warn_prf(average, modifier, msg_start, len(result))\n"
     ]
    },
    {
     "name": "stdout",
     "output_type": "stream",
     "text": [
      "Random forest confusion matrix:\n",
      " [[566720      0]\n",
      " [176914      0]]\n",
      "Random forest classification report:\n",
      "               precision    recall  f1-score   support\n",
      "\n",
      "           0       0.76      1.00      0.86    566720\n",
      "           1       0.00      0.00      0.00    176914\n",
      "\n",
      "    accuracy                           0.76    743634\n",
      "   macro avg       0.38      0.50      0.43    743634\n",
      "weighted avg       0.58      0.76      0.66    743634\n",
      "\n"
     ]
    },
    {
     "name": "stderr",
     "output_type": "stream",
     "text": [
      "C:\\Users\\piotr\\anaconda3\\lib\\site-packages\\sklearn\\metrics\\_classification.py:1318: UndefinedMetricWarning: Precision and F-score are ill-defined and being set to 0.0 in labels with no predicted samples. Use `zero_division` parameter to control this behavior.\n",
      "  _warn_prf(average, modifier, msg_start, len(result))\n",
      "C:\\Users\\piotr\\anaconda3\\lib\\site-packages\\sklearn\\metrics\\_classification.py:1318: UndefinedMetricWarning: Precision and F-score are ill-defined and being set to 0.0 in labels with no predicted samples. Use `zero_division` parameter to control this behavior.\n",
      "  _warn_prf(average, modifier, msg_start, len(result))\n"
     ]
    }
   ],
   "source": [
    "# evaluate the performance \n",
    "rf_cm = confusion_matrix(y_test, rf_y_pred)\n",
    "rf_cr = classification_report(y_test, rf_y_pred)\n",
    "print('Random forest confusion matrix:\\n', rf_cm)\n",
    "print('Random forest classification report:\\n', rf_cr)"
   ]
  },
  {
   "cell_type": "code",
   "execution_count": 79,
   "id": "4ff358a4-a3e2-4705-9952-90f1aecc7ac8",
   "metadata": {},
   "outputs": [],
   "source": [
    "# calculate the ROC curve and AUC score\n",
    "rf_y_pred_proba = rf_model.predict_proba(X_test)[:, 1]\n",
    "rf_fpr, rf_tpr, rf_thresholds = roc_curve(y_test, rf_y_pred_proba)\n",
    "rf_auc = roc_auc_score(y_test, rf_y_pred_proba)"
   ]
  },
  {
   "cell_type": "code",
   "execution_count": 80,
   "id": "2c47ed07-ed1d-4e93-b4f6-b351fc8236ac",
   "metadata": {},
   "outputs": [
    {
     "data": {
      "image/png": "[encoded data removed]",
      "text/plain": [
       "<Figure size 864x576 with 1 Axes>"
      ]
     },
     "metadata": {
      "needs_background": "light"
     },
     "output_type": "display_data"
    }
   ],
   "source": [
    "# plot the ROC curves \n",
    "plt.plot(rf_fpr, rf_tpr, label='Random forest ROC curve (area = %0.2f)' % rf_auc)\n",
    "plt.plot([0, 1], [0, 1], 'k--')\n",
    "plt.xlim([0.0, 1.0])\n",
    "plt.ylim([0.0, 1.05])\n",
    "plt.xlabel('False Positive Rate')\n",
    "plt.ylabel('True Positive Rate')\n",
    "plt.title('Receiver operating characteristic')\n",
    "plt.legend(loc=\"lower right\")\n",
    "plt.show()"
   ]
  }
 ],
 "metadata": {
  "kernelspec": {
   "display_name": "Python 3 (ipykernel)",
   "language": "python",
   "name": "python3"
  },
  "language_info": {
   "codemirror_mode": {
    "name": "ipython",
    "version": 3
   },
   "file_extension": ".py",
   "mimetype": "text/x-python",
   "name": "python",
   "nbconvert_exporter": "python",
   "pygments_lexer": "ipython3",
   "version": "3.9.12"
  }
 },
 "nbformat": 4,
 "nbformat_minor": 5
}
