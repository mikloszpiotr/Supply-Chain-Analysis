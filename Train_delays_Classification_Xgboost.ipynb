{
 "cells": [
  {
   "cell_type": "code",
   "execution_count": 13,
   "id": "762a9d55-9146-46d7-9e78-2d3788cb8a82",
   "metadata": {},
   "outputs": [],
   "source": [
    "#import libraries\n",
    "import pandas as pd\n",
    "import numpy as np\n",
    "import matplotlib.pyplot as plt\n",
    "from sklearn.model_selection import train_test_split\n",
    "from sklearn.metrics import confusion_matrix, classification_report, roc_curve, roc_auc_score\n",
    "from xgboost import XGBClassifier"
   ]
  },
  {
   "cell_type": "code",
   "execution_count": 2,
   "id": "48a4a6e3-cdb0-4bd0-8b34-51ed16c5140a",
   "metadata": {},
   "outputs": [
    {
     "data": {
      "text/html": [
       "<div>\n",
       "<style scoped>\n",
       "    .dataframe tbody tr th:only-of-type {\n",
       "        vertical-align: middle;\n",
       "    }\n",
       "\n",
       "    .dataframe tbody tr th {\n",
       "        vertical-align: top;\n",
       "    }\n",
       "\n",
       "    .dataframe thead th {\n",
       "        text-align: right;\n",
       "    }\n",
       "</style>\n",
       "<table border=\"1\" class=\"dataframe\">\n",
       "  <thead>\n",
       "    <tr style=\"text-align: right;\">\n",
       "      <th></th>\n",
       "      <th>datetime</th>\n",
       "      <th>id</th>\n",
       "      <th>carrier</th>\n",
       "      <th>date</th>\n",
       "      <th>connection</th>\n",
       "      <th>arrival</th>\n",
       "      <th>delay</th>\n",
       "      <th>name</th>\n",
       "    </tr>\n",
       "  </thead>\n",
       "  <tbody>\n",
       "    <tr>\n",
       "      <th>0</th>\n",
       "      <td>2022-05-16 00:00:00</td>\n",
       "      <td>41002/3 (102) POLONIA</td>\n",
       "      <td>PKP Intercity</td>\n",
       "      <td>2022-05-15</td>\n",
       "      <td>Bohumin - Warszawa Wschodnia</td>\n",
       "      <td>21:31</td>\n",
       "      <td>162 min</td>\n",
       "      <td>Warszawa Zachodnia</td>\n",
       "    </tr>\n",
       "    <tr>\n",
       "      <th>1</th>\n",
       "      <td>2022-05-16 00:00:00</td>\n",
       "      <td>91888/9 (102)</td>\n",
       "      <td>Koleje Mazowieckie</td>\n",
       "      <td>2022-05-16</td>\n",
       "      <td>Siedlce - Warszawa Zachodnia</td>\n",
       "      <td>00:15</td>\n",
       "      <td>0 min</td>\n",
       "      <td>Warszawa Zachodnia</td>\n",
       "    </tr>\n",
       "  </tbody>\n",
       "</table>\n",
       "</div>"
      ],
      "text/plain": [
       "              datetime                     id             carrier        date  \\\n",
       "0  2022-05-16 00:00:00  41002/3 (102) POLONIA       PKP Intercity  2022-05-15   \n",
       "1  2022-05-16 00:00:00         91888/9 (102)   Koleje Mazowieckie  2022-05-16   \n",
       "\n",
       "                     connection arrival    delay                name  \n",
       "0  Bohumin - Warszawa Wschodnia   21:31  162 min  Warszawa Zachodnia  \n",
       "1  Siedlce - Warszawa Zachodnia   00:15    0 min  Warszawa Zachodnia  "
      ]
     },
     "execution_count": 2,
     "metadata": {},
     "output_type": "execute_result"
    }
   ],
   "source": [
    "#import dataset, dataset was downloaded from kaggle:https://www.kaggle.com/datasets/bartek358/train-delays\n",
    "df=pd.read_csv(\"delays.csv\")\n",
    "df.head(2)"
   ]
  },
  {
   "cell_type": "code",
   "execution_count": 5,
   "id": "e440e3c7-4d30-42d8-8b23-b0b6a1949e61",
   "metadata": {},
   "outputs": [
    {
     "data": {
      "text/plain": [
       "0    2834968\n",
       "1     883202\n",
       "Name: delay, dtype: int64"
      ]
     },
     "execution_count": 5,
     "metadata": {},
     "output_type": "execute_result"
    }
   ],
   "source": [
    "#Check delay column values\n",
    "df['delay'].value_counts()"
   ]
  },
  {
   "cell_type": "code",
   "execution_count": 4,
   "id": "a5bf148d-0ad5-49f2-b604-ea82c3e5243b",
   "metadata": {},
   "outputs": [
    {
     "data": {
      "text/html": [
       "<div>\n",
       "<style scoped>\n",
       "    .dataframe tbody tr th:only-of-type {\n",
       "        vertical-align: middle;\n",
       "    }\n",
       "\n",
       "    .dataframe tbody tr th {\n",
       "        vertical-align: top;\n",
       "    }\n",
       "\n",
       "    .dataframe thead th {\n",
       "        text-align: right;\n",
       "    }\n",
       "</style>\n",
       "<table border=\"1\" class=\"dataframe\">\n",
       "  <thead>\n",
       "    <tr style=\"text-align: right;\">\n",
       "      <th></th>\n",
       "      <th>datetime</th>\n",
       "      <th>id</th>\n",
       "      <th>carrier</th>\n",
       "      <th>date</th>\n",
       "      <th>connection</th>\n",
       "      <th>arrival</th>\n",
       "      <th>delay</th>\n",
       "      <th>name</th>\n",
       "    </tr>\n",
       "  </thead>\n",
       "  <tbody>\n",
       "    <tr>\n",
       "      <th>0</th>\n",
       "      <td>2022-05-16 00:00:00</td>\n",
       "      <td>41002/3 (102) POLONIA</td>\n",
       "      <td>PKP Intercity</td>\n",
       "      <td>2022-05-15</td>\n",
       "      <td>Bohumin - Warszawa Wschodnia</td>\n",
       "      <td>21:31</td>\n",
       "      <td>1</td>\n",
       "      <td>Warszawa Zachodnia</td>\n",
       "    </tr>\n",
       "    <tr>\n",
       "      <th>1</th>\n",
       "      <td>2022-05-16 00:00:00</td>\n",
       "      <td>91888/9 (102)</td>\n",
       "      <td>Koleje Mazowieckie</td>\n",
       "      <td>2022-05-16</td>\n",
       "      <td>Siedlce - Warszawa Zachodnia</td>\n",
       "      <td>00:15</td>\n",
       "      <td>0</td>\n",
       "      <td>Warszawa Zachodnia</td>\n",
       "    </tr>\n",
       "  </tbody>\n",
       "</table>\n",
       "</div>"
      ],
      "text/plain": [
       "              datetime                     id             carrier        date  \\\n",
       "0  2022-05-16 00:00:00  41002/3 (102) POLONIA       PKP Intercity  2022-05-15   \n",
       "1  2022-05-16 00:00:00         91888/9 (102)   Koleje Mazowieckie  2022-05-16   \n",
       "\n",
       "                     connection arrival  delay                name  \n",
       "0  Bohumin - Warszawa Wschodnia   21:31      1  Warszawa Zachodnia  \n",
       "1  Siedlce - Warszawa Zachodnia   00:15      0  Warszawa Zachodnia  "
      ]
     },
     "execution_count": 4,
     "metadata": {},
     "output_type": "execute_result"
    }
   ],
   "source": [
    "#Change delay column to binary values\n",
    "df['delay'] = np.where(df['delay']==\"0 min\",0,1)\n",
    "df.head(2)"
   ]
  },
  {
   "cell_type": "code",
   "execution_count": 6,
   "id": "d0ff7d42-0042-4019-9514-b450a485af0e",
   "metadata": {},
   "outputs": [],
   "source": [
    "#Filter for columns for classification\n",
    "df_clas = df[[\"carrier\",\"delay\"]]"
   ]
  },
  {
   "cell_type": "code",
   "execution_count": 7,
   "id": "4543055b-ff14-4bfb-8e07-9ce0878823e3",
   "metadata": {},
   "outputs": [
    {
     "data": {
      "text/html": [
       "<div>\n",
       "<style scoped>\n",
       "    .dataframe tbody tr th:only-of-type {\n",
       "        vertical-align: middle;\n",
       "    }\n",
       "\n",
       "    .dataframe tbody tr th {\n",
       "        vertical-align: top;\n",
       "    }\n",
       "\n",
       "    .dataframe thead th {\n",
       "        text-align: right;\n",
       "    }\n",
       "</style>\n",
       "<table border=\"1\" class=\"dataframe\">\n",
       "  <thead>\n",
       "    <tr style=\"text-align: right;\">\n",
       "      <th></th>\n",
       "      <th>Arriva</th>\n",
       "      <th>Koleje Dolnośląskie</th>\n",
       "      <th>Koleje Mazowieckie</th>\n",
       "      <th>Koleje Wielkopolskie</th>\n",
       "      <th>Koleje Śląskie</th>\n",
       "      <th>PKP Intercity</th>\n",
       "      <th>PKP SKM w Trójmieście Sp. z o.o.</th>\n",
       "      <th>POLREGIO Sp. z o.o.</th>\n",
       "      <th>SKM Warszawa</th>\n",
       "      <th>Łódzka Kolej Aglomeracyjna</th>\n",
       "    </tr>\n",
       "  </thead>\n",
       "  <tbody>\n",
       "    <tr>\n",
       "      <th>0</th>\n",
       "      <td>0</td>\n",
       "      <td>0</td>\n",
       "      <td>0</td>\n",
       "      <td>0</td>\n",
       "      <td>0</td>\n",
       "      <td>1</td>\n",
       "      <td>0</td>\n",
       "      <td>0</td>\n",
       "      <td>0</td>\n",
       "      <td>0</td>\n",
       "    </tr>\n",
       "    <tr>\n",
       "      <th>1</th>\n",
       "      <td>0</td>\n",
       "      <td>0</td>\n",
       "      <td>1</td>\n",
       "      <td>0</td>\n",
       "      <td>0</td>\n",
       "      <td>0</td>\n",
       "      <td>0</td>\n",
       "      <td>0</td>\n",
       "      <td>0</td>\n",
       "      <td>0</td>\n",
       "    </tr>\n",
       "    <tr>\n",
       "      <th>2</th>\n",
       "      <td>0</td>\n",
       "      <td>0</td>\n",
       "      <td>1</td>\n",
       "      <td>0</td>\n",
       "      <td>0</td>\n",
       "      <td>0</td>\n",
       "      <td>0</td>\n",
       "      <td>0</td>\n",
       "      <td>0</td>\n",
       "      <td>0</td>\n",
       "    </tr>\n",
       "    <tr>\n",
       "      <th>3</th>\n",
       "      <td>0</td>\n",
       "      <td>0</td>\n",
       "      <td>1</td>\n",
       "      <td>0</td>\n",
       "      <td>0</td>\n",
       "      <td>0</td>\n",
       "      <td>0</td>\n",
       "      <td>0</td>\n",
       "      <td>0</td>\n",
       "      <td>0</td>\n",
       "    </tr>\n",
       "    <tr>\n",
       "      <th>4</th>\n",
       "      <td>0</td>\n",
       "      <td>0</td>\n",
       "      <td>0</td>\n",
       "      <td>0</td>\n",
       "      <td>0</td>\n",
       "      <td>1</td>\n",
       "      <td>0</td>\n",
       "      <td>0</td>\n",
       "      <td>0</td>\n",
       "      <td>0</td>\n",
       "    </tr>\n",
       "    <tr>\n",
       "      <th>...</th>\n",
       "      <td>...</td>\n",
       "      <td>...</td>\n",
       "      <td>...</td>\n",
       "      <td>...</td>\n",
       "      <td>...</td>\n",
       "      <td>...</td>\n",
       "      <td>...</td>\n",
       "      <td>...</td>\n",
       "      <td>...</td>\n",
       "      <td>...</td>\n",
       "    </tr>\n",
       "    <tr>\n",
       "      <th>3718165</th>\n",
       "      <td>0</td>\n",
       "      <td>0</td>\n",
       "      <td>0</td>\n",
       "      <td>0</td>\n",
       "      <td>0</td>\n",
       "      <td>1</td>\n",
       "      <td>0</td>\n",
       "      <td>0</td>\n",
       "      <td>0</td>\n",
       "      <td>0</td>\n",
       "    </tr>\n",
       "    <tr>\n",
       "      <th>3718166</th>\n",
       "      <td>0</td>\n",
       "      <td>0</td>\n",
       "      <td>1</td>\n",
       "      <td>0</td>\n",
       "      <td>0</td>\n",
       "      <td>0</td>\n",
       "      <td>0</td>\n",
       "      <td>0</td>\n",
       "      <td>0</td>\n",
       "      <td>0</td>\n",
       "    </tr>\n",
       "    <tr>\n",
       "      <th>3718167</th>\n",
       "      <td>0</td>\n",
       "      <td>0</td>\n",
       "      <td>0</td>\n",
       "      <td>0</td>\n",
       "      <td>0</td>\n",
       "      <td>1</td>\n",
       "      <td>0</td>\n",
       "      <td>0</td>\n",
       "      <td>0</td>\n",
       "      <td>0</td>\n",
       "    </tr>\n",
       "    <tr>\n",
       "      <th>3718168</th>\n",
       "      <td>0</td>\n",
       "      <td>0</td>\n",
       "      <td>0</td>\n",
       "      <td>0</td>\n",
       "      <td>0</td>\n",
       "      <td>1</td>\n",
       "      <td>0</td>\n",
       "      <td>0</td>\n",
       "      <td>0</td>\n",
       "      <td>0</td>\n",
       "    </tr>\n",
       "    <tr>\n",
       "      <th>3718169</th>\n",
       "      <td>0</td>\n",
       "      <td>0</td>\n",
       "      <td>0</td>\n",
       "      <td>0</td>\n",
       "      <td>0</td>\n",
       "      <td>1</td>\n",
       "      <td>0</td>\n",
       "      <td>0</td>\n",
       "      <td>0</td>\n",
       "      <td>0</td>\n",
       "    </tr>\n",
       "  </tbody>\n",
       "</table>\n",
       "<p>3718170 rows × 10 columns</p>\n",
       "</div>"
      ],
      "text/plain": [
       "         Arriva  Koleje Dolnośląskie  Koleje Mazowieckie  \\\n",
       "0             0                    0                   0   \n",
       "1             0                    0                   1   \n",
       "2             0                    0                   1   \n",
       "3             0                    0                   1   \n",
       "4             0                    0                   0   \n",
       "...         ...                  ...                 ...   \n",
       "3718165       0                    0                   0   \n",
       "3718166       0                    0                   1   \n",
       "3718167       0                    0                   0   \n",
       "3718168       0                    0                   0   \n",
       "3718169       0                    0                   0   \n",
       "\n",
       "         Koleje Wielkopolskie  Koleje Śląskie  PKP Intercity  \\\n",
       "0                           0               0              1   \n",
       "1                           0               0              0   \n",
       "2                           0               0              0   \n",
       "3                           0               0              0   \n",
       "4                           0               0              1   \n",
       "...                       ...             ...            ...   \n",
       "3718165                     0               0              1   \n",
       "3718166                     0               0              0   \n",
       "3718167                     0               0              1   \n",
       "3718168                     0               0              1   \n",
       "3718169                     0               0              1   \n",
       "\n",
       "         PKP SKM w Trójmieście Sp. z o.o.  POLREGIO Sp. z o.o.  SKM Warszawa  \\\n",
       "0                                       0                    0             0   \n",
       "1                                       0                    0             0   \n",
       "2                                       0                    0             0   \n",
       "3                                       0                    0             0   \n",
       "4                                       0                    0             0   \n",
       "...                                   ...                  ...           ...   \n",
       "3718165                                 0                    0             0   \n",
       "3718166                                 0                    0             0   \n",
       "3718167                                 0                    0             0   \n",
       "3718168                                 0                    0             0   \n",
       "3718169                                 0                    0             0   \n",
       "\n",
       "         Łódzka Kolej Aglomeracyjna  \n",
       "0                                 0  \n",
       "1                                 0  \n",
       "2                                 0  \n",
       "3                                 0  \n",
       "4                                 0  \n",
       "...                             ...  \n",
       "3718165                           0  \n",
       "3718166                           0  \n",
       "3718167                           0  \n",
       "3718168                           0  \n",
       "3718169                           0  \n",
       "\n",
       "[3718170 rows x 10 columns]"
      ]
     },
     "execution_count": 7,
     "metadata": {},
     "output_type": "execute_result"
    }
   ],
   "source": [
    "#create a dummy values for carrier column\n",
    "dummies = pd.get_dummies(df_clas[\"carrier\"])\n",
    "dummies"
   ]
  },
  {
   "cell_type": "code",
   "execution_count": 8,
   "id": "af6f55ba-7173-47f4-8b57-9477d5499537",
   "metadata": {},
   "outputs": [],
   "source": [
    "#Concat df_clas and dummies values\n",
    "df_cl = pd.concat([df_clas,dummies],axis=1)\n",
    "df_cl = df_cl[['delay', 'Arriva', 'Koleje Dolnośląskie', 'Koleje Mazowieckie', 'Koleje Wielkopolskie', 'Koleje Śląskie','PKP Intercity', 'PKP SKM w Trójmieście Sp. z o.o.', 'POLREGIO Sp. z o.o.', 'SKM Warszawa', 'Łódzka Kolej Aglomeracyjna']]"
   ]
  },
  {
   "cell_type": "code",
   "execution_count": 9,
   "id": "0b140ab1-d72d-4883-b38a-2fa459145455",
   "metadata": {},
   "outputs": [],
   "source": [
    "#Split data into X and y with reshape function\n",
    "X = df_cl.iloc[:,1:]\n",
    "y = df_cl.iloc[:, 0]"
   ]
  },
  {
   "cell_type": "code",
   "execution_count": 10,
   "id": "8cc5f001-f6d3-4d0d-924b-db5e86ab6f1f",
   "metadata": {},
   "outputs": [],
   "source": [
    "#Splitting data into train and test set\n",
    "X_train, X_test, y_train, y_test = train_test_split(X, y, test_size=0.2)"
   ]
  },
  {
   "cell_type": "code",
   "execution_count": 14,
   "id": "990f3f9b-8ea8-44c4-8298-f6f10fdfebc6",
   "metadata": {},
   "outputs": [],
   "source": [
    "# create the XGBoost classifier model\n",
    "xgb_model = XGBClassifier(random_state=42)\n",
    "xgb_model.fit(X_train, y_train)\n",
    "y_pred = xgb_model.predict(X_test)"
   ]
  },
  {
   "cell_type": "code",
   "execution_count": 15,
   "id": "f4ecf535-3de9-4fea-8f1e-b2d1d8cf42e0",
   "metadata": {},
   "outputs": [
    {
     "name": "stderr",
     "output_type": "stream",
     "text": [
      "C:\\Users\\piotr\\anaconda3\\lib\\site-packages\\sklearn\\metrics\\_classification.py:1318: UndefinedMetricWarning: Precision and F-score are ill-defined and being set to 0.0 in labels with no predicted samples. Use `zero_division` parameter to control this behavior.\n",
      "  _warn_prf(average, modifier, msg_start, len(result))\n"
     ]
    },
    {
     "name": "stdout",
     "output_type": "stream",
     "text": [
      "Confusion matrix:\n",
      " [[567162      0]\n",
      " [176472      0]]\n",
      "Classification report:\n",
      "               precision    recall  f1-score   support\n",
      "\n",
      "           0       0.76      1.00      0.87    567162\n",
      "           1       0.00      0.00      0.00    176472\n",
      "\n",
      "    accuracy                           0.76    743634\n",
      "   macro avg       0.38      0.50      0.43    743634\n",
      "weighted avg       0.58      0.76      0.66    743634\n",
      "\n"
     ]
    },
    {
     "name": "stderr",
     "output_type": "stream",
     "text": [
      "C:\\Users\\piotr\\anaconda3\\lib\\site-packages\\sklearn\\metrics\\_classification.py:1318: UndefinedMetricWarning: Precision and F-score are ill-defined and being set to 0.0 in labels with no predicted samples. Use `zero_division` parameter to control this behavior.\n",
      "  _warn_prf(average, modifier, msg_start, len(result))\n",
      "C:\\Users\\piotr\\anaconda3\\lib\\site-packages\\sklearn\\metrics\\_classification.py:1318: UndefinedMetricWarning: Precision and F-score are ill-defined and being set to 0.0 in labels with no predicted samples. Use `zero_division` parameter to control this behavior.\n",
      "  _warn_prf(average, modifier, msg_start, len(result))\n"
     ]
    }
   ],
   "source": [
    "# evaluate the performance of the model using confusion matrix and classification report\n",
    "cm = confusion_matrix(y_test, y_pred)\n",
    "cr = classification_report(y_test, y_pred)\n",
    "print('Confusion matrix:\\n', cm)\n",
    "print('Classification report:\\n', cr)"
   ]
  },
  {
   "cell_type": "code",
   "execution_count": 17,
   "id": "588d99b0-8690-47c1-80c7-04e36dae7be1",
   "metadata": {},
   "outputs": [],
   "source": [
    "# calculate the ROC curve and AUC score\n",
    "y_pred_proba = xgb_model.predict_proba(X_test)[:, 1]\n",
    "fpr, tpr, thresholds = roc_curve(y_test, y_pred_proba)\n",
    "auc = roc_auc_score(y_test, y_pred_proba)"
   ]
  },
  {
   "cell_type": "code",
   "execution_count": 19,
   "id": "6c2ff606-0cdb-475f-ad60-982daa22a230",
   "metadata": {},
   "outputs": [],
   "source": [
    "#Define a size\n",
    "plt.rcParams[\"figure.figsize\"] = (12, 8)"
   ]
  },
  {
   "cell_type": "code",
   "execution_count": 20,
   "id": "d1fafeb5-471a-4032-8f94-3ca1d8580666",
   "metadata": {},
   "outputs": [
    {
     "data": {
      "image/png": "[encoded data removed]",
      "text/plain": [
       "<Figure size 864x576 with 1 Axes>"
      ]
     },
     "metadata": {
      "needs_background": "light"
     },
     "output_type": "display_data"
    }
   ],
   "source": [
    "# plot the ROC curve\n",
    "plt.plot(fpr, tpr, label='ROC curve (area = %0.2f)' % auc)\n",
    "plt.plot([0, 1], [0, 1], 'k--')\n",
    "plt.xlim([0.0, 1.0])\n",
    "plt.ylim([0.0, 1.05])\n",
    "plt.xlabel('False Positive Rate')\n",
    "plt.ylabel('True Positive Rate')\n",
    "plt.title('Receiver operating characteristic')\n",
    "plt.legend(loc=\"lower right\")\n",
    "plt.show()"
   ]
  }
 ],
 "metadata": {
  "kernelspec": {
   "display_name": "Python 3 (ipykernel)",
   "language": "python",
   "name": "python3"
  },
  "language_info": {
   "codemirror_mode": {
    "name": "ipython",
    "version": 3
   },
   "file_extension": ".py",
   "mimetype": "text/x-python",
   "name": "python",
   "nbconvert_exporter": "python",
   "pygments_lexer": "ipython3",
   "version": "3.9.12"
  }
 },
 "nbformat": 4,
 "nbformat_minor": 5
}
